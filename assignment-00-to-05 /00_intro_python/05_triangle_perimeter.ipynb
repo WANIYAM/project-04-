{
  "nbformat": 4,
  "nbformat_minor": 0,
  "metadata": {
    "colab": {
      "provenance": [],
      "authorship_tag": "ABX9TyMlOdLvNEEjQu5D0tjgEFRH",
      "include_colab_link": true
    },
    "kernelspec": {
      "name": "python3",
      "display_name": "Python 3"
    },
    "language_info": {
      "name": "python"
    }
  },
  "cells": [
    {
      "cell_type": "markdown",
      "metadata": {
        "id": "view-in-github",
        "colab_type": "text"
      },
      "source": [
        "<a href=\"https://colab.research.google.com/github/WANIYAM/project-04-/blob/main/assignment-00-to-05%20/00_intro_python%20/05_triangle_perimeter.ipynb\" target=\"_parent\"><img src=\"https://colab.research.google.com/assets/colab-badge.svg\" alt=\"Open In Colab\"/></a>"
      ]
    },
    {
      "cell_type": "markdown",
      "source": [
        "**Problem Statement**\n",
        "\n",
        "Prompt the user to enter the lengths of each side of a triangle and then calculate and print the perimeter of the triangle (the sum of all of the side lengths).\n",
        "\n",
        "Here's a sample run of the program (user input is in bold italics):\n",
        "\n",
        "What is the length of side 1? 3\n",
        "\n",
        "What is the length of side 2? 4\n",
        "\n",
        "What is the length of side 3? 5.5\n",
        "\n",
        "The perimeter of the triangle is 12.5"
      ],
      "metadata": {
        "id": "dtuybObQbbrN"
      }
    },
    {
      "cell_type": "code",
      "execution_count": 1,
      "metadata": {
        "colab": {
          "base_uri": "https://localhost:8080/"
        },
        "id": "-ZbWMqGMbHcp",
        "outputId": "1c05c6fa-c140-43c1-b8e9-d72294b2d605"
      },
      "outputs": [
        {
          "output_type": "stream",
          "name": "stdout",
          "text": [
            "What is the length of side 1? 4\n",
            "What is the length of side 2? 5.5\n",
            "What is the length of side 3? 3\n",
            "The perimeter of the triangle is 12.5\n"
          ]
        }
      ],
      "source": [
        "def main():\n",
        "   side1=float(input(\"What is the length of side 1? \"))\n",
        "   side2=float(input(\"What is the length of side 2? \"))\n",
        "   side3=float(input(\"What is the length of side 3? \"))\n",
        "   perimeter=side1+side2+side3\n",
        "\n",
        "   print (f\"The perimeter of the triangle is {perimeter}\")\n",
        "if __name__ == '__main__':\n",
        "    main()\n"
      ]
    }
  ]
}
