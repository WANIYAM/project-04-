{
  "nbformat": 4,
  "nbformat_minor": 0,
  "metadata": {
    "colab": {
      "provenance": [],
      "authorship_tag": "ABX9TyNReWknPDJdYrRMqthLcWb6",
      "include_colab_link": true
    },
    "kernelspec": {
      "name": "python3",
      "display_name": "Python 3"
    },
    "language_info": {
      "name": "python"
    }
  },
  "cells": [
    {
      "cell_type": "markdown",
      "metadata": {
        "id": "view-in-github",
        "colab_type": "text"
      },
      "source": [
        "<a href=\"https://colab.research.google.com/github/WANIYAM/project-04-/blob/main/assignment-00-to-05%20/00_intro_python/01_add_two_numbers.ipynb\" target=\"_parent\"><img src=\"https://colab.research.google.com/assets/colab-badge.svg\" alt=\"Open In Colab\"/></a>"
      ]
    },
    {
      "cell_type": "markdown",
      "source": [
        "## Problem Statement\n",
        "\n",
        "Write a Python program that takes two integer inputs from the user and calculates their sum. The program should perform the following tasks:\n",
        "\n",
        "1. Prompt the user to enter the first number.\n",
        "\n",
        "2. Read the input and convert it to an integer.\n",
        "\n",
        "3. Prompt the user to enter the second number.\n",
        "\n",
        "4. Read the input and convert it to an integer.\n",
        "\n",
        "5. Calculate the sum of the two numbers.\n",
        "\n",
        "6. Print the total sum with an appropriate message.\n",
        "\n",
        "The provided solution demonstrates a working implementation of this problem, where the main() function guides the user through the process of entering two numbers and displays their sum.\n"
      ],
      "metadata": {
        "id": "LxxclecI2SBl"
      }
    },
    {
      "cell_type": "code",
      "source": [
        "def main():\n",
        "    # Prompt the user to enter the first number\n",
        "    num1 = input(\"Enter the first number: \")\n",
        "    # Read the input and convert it to an integer.\n",
        "    num1 = int(num1)\n",
        "    # Prompt the user to enter the second number\n",
        "    num2 = input(\"Enter the second number: \")\n",
        "    # Read the input and convert it to an integer.\n",
        "    num2 = int(num2)\n",
        "\n",
        "    # Calculate the sum of the two numbers.\n",
        "    total = num1 + num2\n",
        "    print(f\"Type of sum: {type(total)}\")\n",
        "\n",
        "    # Print the total sum with an appropriate message.\n",
        "    print(f\"The sum of {num1} and {num2} is {total}\")\n",
        "\n",
        "# Call the main function\n",
        "if __name__ == \"__main__\":\n",
        "    main()\n",
        "\n"
      ],
      "metadata": {
        "id": "ul7gjOuG2dJC",
        "colab": {
          "base_uri": "https://localhost:8080/"
        },
        "outputId": "4a5b56da-644a-4f3c-cc88-ff2e89b5ec19"
      },
      "execution_count": 3,
      "outputs": [
        {
          "output_type": "stream",
          "name": "stdout",
          "text": [
            "Enter the first number: 12\n",
            "Enter the second number: 45\n",
            "Type of sum: <class 'int'>\n",
            "The sum of 12 and 45 is 57\n"
          ]
        }
      ]
    }
  ]
}