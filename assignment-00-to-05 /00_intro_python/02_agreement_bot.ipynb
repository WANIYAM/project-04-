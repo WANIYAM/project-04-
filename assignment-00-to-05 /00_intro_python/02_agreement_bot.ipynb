{
  "nbformat": 4,
  "nbformat_minor": 0,
  "metadata": {
    "colab": {
      "provenance": [],
      "authorship_tag": "ABX9TyNOmbdW/kdO0KKoWOrFlz1J",
      "include_colab_link": true
    },
    "kernelspec": {
      "name": "python3",
      "display_name": "Python 3"
    },
    "language_info": {
      "name": "python"
    }
  },
  "cells": [
    {
      "cell_type": "markdown",
      "metadata": {
        "id": "view-in-github",
        "colab_type": "text"
      },
      "source": [
        "<a href=\"https://colab.research.google.com/github/WANIYAM/project-04-/blob/main/assignment-00-to-05%20/00_intro_python/02_agreement_bot.ipynb\" target=\"_parent\"><img src=\"https://colab.research.google.com/assets/colab-badge.svg\" alt=\"Open In Colab\"/></a>"
      ]
    },
    {
      "cell_type": "markdown",
      "source": [
        "## Problem Statement\n",
        "\n",
        "Write a program which asks the user what their favorite animal is, and then always responds with \"My favorite animal is also ___!\" (the blank should be filled in with the user-inputted animal, of course).\n",
        "\n",
        "Here's a sample run of the program (user input is in bold italics - note the space between the prompt and the user input!):\n",
        "\n",
        "What's your favorite animal? cow\n",
        "\n",
        "My favorite animal is also cow!\n"
      ],
      "metadata": {
        "id": "x9wTzQKU22uX"
      }
    }
  ]
}