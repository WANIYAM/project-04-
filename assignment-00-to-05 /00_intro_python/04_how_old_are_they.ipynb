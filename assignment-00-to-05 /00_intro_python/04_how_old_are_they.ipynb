{
  "nbformat": 4,
  "nbformat_minor": 0,
  "metadata": {
    "colab": {
      "provenance": [],
      "authorship_tag": "ABX9TyNLvTWDTgcHhUMo4y9x5KBS",
      "include_colab_link": true
    },
    "kernelspec": {
      "name": "python3",
      "display_name": "Python 3"
    },
    "language_info": {
      "name": "python"
    }
  },
  "cells": [
    {
      "cell_type": "markdown",
      "metadata": {
        "id": "view-in-github",
        "colab_type": "text"
      },
      "source": [
        "<a href=\"https://colab.research.google.com/github/WANIYAM/project-04-/blob/main/assignment-00-to-05%20/00_intro_python/04_how_old_are_they.ipynb\" target=\"_parent\"><img src=\"https://colab.research.google.com/assets/colab-badge.svg\" alt=\"Open In Colab\"/></a>"
      ]
    },
    {
      "cell_type": "markdown",
      "source": [
        "## Problem Statement\n",
        "\n",
        "Write a program to solve this age-related riddle!\n",
        "\n",
        "Anton, Beth, Chen, Drew, and Ethan are all friends. Their ages are as follows:\n",
        "\n",
        "Anton is 21 years old.\n",
        "\n",
        "Beth is 6 years older than Anton.\n",
        "\n",
        "Chen is 20 years older than Beth.\n",
        "\n",
        "Drew is as old as Chen's age plus Anton's age.\n",
        "\n",
        "Ethan is the same age as Chen.\n",
        "\n",
        "Your code should store each person's age to a variable and print their names and ages at the end. The autograder is sensitive to capitalization and punctuation, be careful! Your solution should look like this (the below numbers are made up -- your solution should have the correct values!):\n",
        "\n"
      ],
      "metadata": {
        "id": "rMT5BAoOWmg7"
      }
    },
    {
      "cell_type": "code",
      "execution_count": 3,
      "metadata": {
        "id": "s-zxlcbYWhbY",
        "outputId": "521e570a-d543-455f-ac83-223a03aef5ae",
        "colab": {
          "base_uri": "https://localhost:8080/"
        }
      },
      "outputs": [
        {
          "output_type": "stream",
          "name": "stdout",
          "text": [
            "Anton is 21\n",
            "Beth is 27\n",
            "Chen is 47\n",
            "Drew is 68\n",
            "Ethan is 47\n"
          ]
        }
      ],
      "source": [
        "def main():\n",
        "    Anton:int=21\n",
        "    Beth:int=6+Anton\n",
        "    Chen:int=20+Beth\n",
        "    Drew:int=(Chen+Anton)\n",
        "    Ethan=Chen\n",
        "\n",
        "    print(f\"Anton is {Anton}\")\n",
        "    print(f\"Beth is {Beth}\")\n",
        "    print(f\"Chen is {Chen}\")\n",
        "    print(f\"Drew is {Drew}\")\n",
        "    print(f\"Ethan is {Ethan}\")\n",
        "\n",
        "\n",
        "\n",
        "if __name__ == '__main__':\n",
        "    main()"
      ]
    }
  ]
}